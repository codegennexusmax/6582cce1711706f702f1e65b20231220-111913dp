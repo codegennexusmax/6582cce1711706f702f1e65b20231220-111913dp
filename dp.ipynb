{
 "cells": [
  {
   "cell_type": "markdown",
   "id": "f1f278bf",
   "metadata": {},
   "source": [
    "***GENERATED CODE FOR dp PIPELINE.***"
   ]
  },
  {
   "cell_type": "markdown",
   "id": "7a98da39",
   "metadata": {},
   "source": [
    "***DON'T EDIT THIS CODE.***"
   ]
  },
  {
   "cell_type": "markdown",
   "id": "e4859a87",
   "metadata": {},
   "source": [
    "***CONNECTOR FUNCTIONS TO READ DATA.***"
   ]
  },
  {
   "cell_type": "code",
   "execution_count": null,
   "id": "554ff544",
   "metadata": {},
   "outputs": [],
   "source": [
    "import os\n",
    "import datetime\n",
    "import logging\n",
    "import warnings\n",
    "warnings.filterwarnings('ignore')\n",
    "logging.basicConfig(format='%(levelname)s:%(message)s', level=logging.INFO)\n",
    "\n",
    "\n",
    "class HDFSConnector:\n",
    "\n",
    "    def fetch(spark, config):\n",
    "        ################### INPUT HADOOP HOST PORT TO CONNECT WITH ###############################\n",
    "        hdfs_server = str(os.environ['HDFS_SERVER'])\n",
    "        hdfs_port = int(os.environ['HDFS_PORT'])\n",
    "        df = spark.read.options(header='true', inferschema='true').csv(\n",
    "            f\"hdfs://{hdfs_server}:{hdfs_port}{eval(config)['url']}\", header='true')\n",
    "        display(df.limit(2).toPandas())\n",
    "        return df\n",
    "\n",
    "    def put(df, spark, config):\n",
    "        return df.write.format('csv').options(header='true' if eval(config)[\"is_header\"] == \"Use Header Line\" else 'false',\n",
    "                                              delimiter=eval(config)[\"delimiter\"]).save((\"%s %s\") % (datetime.datetime.now().strftime(\"%Y-%m-%d %H.%M.%S\")+\"_\", eval(config)['url']))\n"
   ]
  },
  {
   "cell_type": "markdown",
   "id": "9e32812a",
   "metadata": {},
   "source": [
    "***TRANSFORMATIONS FUNCTIONS THAT WILL BE APPLIED ON DATA***"
   ]
  },
  {
   "cell_type": "code",
   "execution_count": null,
   "id": "8c0bb9c4",
   "metadata": {},
   "outputs": [],
   "source": [
    "import json\n",
    "from pyspark.sql.functions import col, when\n",
    "from pyspark.sql.functions import mean, stddev, min, max, col\n",
    "\n",
    "\n",
    "class CleanseData:\n",
    "    # def __init__(self,df):\n",
    "    #     #print()\n",
    "\n",
    "    def cleanValueForFE(self, value):\n",
    "        if value == None:\n",
    "            return \"\"\n",
    "        elif str(value) == 'nan':\n",
    "            return \"nan\"\n",
    "        else:\n",
    "            return value\n",
    "\n",
    "    def replaceByMean(self, feature, df, mean_=-1):\n",
    "        df1 = df\n",
    "        df1 = df1.dropna()\n",
    "        meanValue = self.cleanValueForFE(df1.select(\n",
    "            mean(col(feature.name)).alias('mean')).collect()[0][\"mean\"])\n",
    "        df = df.fillna(meanValue, subset=[feature.name])\n",
    "        df.withColumn(feature.name, when(col(feature.name) == \" \",\n",
    "                      meanValue).otherwise(col(feature.name).cast(\"Integer\")))\n",
    "        return df\n",
    "\n",
    "    def replaceByMax(self, feature, df, max_=-1):\n",
    "        df1 = df\n",
    "        df1 = df1.dropna()\n",
    "        maxValue = self.cleanValueForFE(df1.select(\n",
    "            max(col(feature.name)).alias('max')).collect()[0][\"max\"])\n",
    "        df = df.fillna(maxValue, subset=[feature.name])\n",
    "        df = df.withColumn(feature.name,\n",
    "                           when(col(feature.name) == \" \", maxValue).otherwise(col(feature.name)))\n",
    "        return df\n",
    "\n",
    "    def replaceByMin(self, feature, df, min_=-1):\n",
    "        df1 = df\n",
    "        df1 = df1.dropna()\n",
    "        minValue = self.cleanValueForFE(df1.select(\n",
    "            min(col(feature.name)).alias('min')).collect()[0][\"min\"])\n",
    "        df = df.fillna(minValue, subset=[feature.name])\n",
    "        df = df.withColumn(feature.name,\n",
    "                           when(col(feature.name) == \" \", minValue).otherwise(col(feature.name)))\n",
    "        return df\n",
    "\n",
    "    def replaceByStandardDeviation(self, feature, df, stddev_=-1):\n",
    "        df1 = df\n",
    "        df1 = df1.dropna()\n",
    "        stddevValue = self.cleanValueForFE(df1.select(\n",
    "            stddev(col(feature.name)).alias('stddev')).collect()[0][\"stddev\"])\n",
    "        df = df.fillna(stddevValue, subset=[feature.name])\n",
    "        df = df.withColumn(feature.name,\n",
    "                           when(col(feature.name) == \" \", stddevValue).otherwise(col(feature.name)))\n",
    "        return df\n",
    "\n",
    "    def replaceDateRandomly(self, feature, df):\n",
    "        df1 = df\n",
    "        df1 = df1.dropna()\n",
    "        fillValue = self.cleanValueForFE(\n",
    "            df.where(col(feature.name).isNotNull()).head(1)[0][feature.name])\n",
    "        df = df.fillna(str(fillValue), subset=[feature.name])\n",
    "        df = df.withColumn(feature.name,\n",
    "                           when(col(feature.name) == \" \", fillValue).otherwise(col(feature.name)))\n",
    "        # print(\"CleanseData:replaceDateRandomly Schema : \", df.#printSchema())\n",
    "        return df\n",
    "\n",
    "    def replaceNullValues(self, fList, df):\n",
    "        featuresList = df.schema.fields\n",
    "        for featureObj in fList:\n",
    "            for feat in featuresList:\n",
    "                if featureObj[\"feature\"] in feat.name:\n",
    "                    featureName = feat\n",
    "                    if \"mean\" in featureObj[\"replaceby\"]:\n",
    "                        df = self.replaceByMean(featureName, df)\n",
    "                    elif \"max\" in featureObj[\"replaceby\"]:\n",
    "                        df = self.replaceByMax(featureName, df)\n",
    "                    elif \"min\" in featureObj[\"replaceby\"]:\n",
    "                        df = self.replaceByMin(featureName, df)\n",
    "                    elif \"stddev\" in featureObj[\"replaceby\"]:\n",
    "                        df = self.replaceByStandardDeviation(featureName, df)\n",
    "                    elif \"random\" in featureObj[\"replaceby\"]:\n",
    "                        df = self.replaceDateRandomly(featureName, df)\n",
    "        return df\n",
    "\n",
    "\n",
    "class TransformationMain:\n",
    "    # TODO: change df argument in run with following\n",
    "    def run(transformationDF, config):\n",
    "        configObj = json.loads(config)\n",
    "        featureData = configObj[\"FE\"]\n",
    "        transformationDF = CleanseData().replaceNullValues(featureData, transformationDF)\n",
    "        display(transformationDF.limit(2).toPandas())\n",
    "        return transformationDF\n"
   ]
  },
  {
   "cell_type": "markdown",
   "id": "9ab4d9fd",
   "metadata": {},
   "source": [
    "***CONNECTOR FUNCTIONS TO WRITE DATA.***"
   ]
  },
  {
   "cell_type": "code",
   "execution_count": null,
   "id": "e649a316",
   "metadata": {},
   "outputs": [],
   "source": [
    "import os\n",
    "import datetime\n",
    "import logging\n",
    "import warnings\n",
    "warnings.filterwarnings('ignore')\n",
    "logging.basicConfig(format='%(levelname)s:%(message)s', level=logging.INFO)\n",
    "\n",
    "\n",
    "class HDFSConnector:\n",
    "\n",
    "    def fetch(spark, config):\n",
    "        ################### INPUT HADOOP HOST PORT TO CONNECT WITH ###############################\n",
    "        hdfs_server = str(os.environ['HDFS_SERVER'])\n",
    "        hdfs_port = int(os.environ['HDFS_PORT'])\n",
    "        df = spark.read.options(header='true', inferschema='true').csv(\n",
    "            f\"hdfs://{hdfs_server}:{hdfs_port}{eval(config)['url']}\", header='true')\n",
    "        display(df.limit(2).toPandas())\n",
    "        return df\n",
    "\n",
    "    def put(df, spark, config):\n",
    "        return df.write.format('csv').options(header='true' if eval(config)[\"is_header\"] == \"Use Header Line\" else 'false',\n",
    "                                              delimiter=eval(config)[\"delimiter\"]).save((\"%s %s\") % (datetime.datetime.now().strftime(\"%Y-%m-%d %H.%M.%S\")+\"_\", eval(config)['url']))\n"
   ]
  },
  {
   "cell_type": "markdown",
   "id": "b3caf166",
   "metadata": {},
   "source": [
    "***READING DATAFRAME***"
   ]
  },
  {
   "cell_type": "code",
   "execution_count": null,
   "id": "c9a24436",
   "metadata": {},
   "outputs": [],
   "source": [
    "############## CREATE SPARK SESSION ############################ ENTER YOUR SPARK MASTER IP AND PORT TO CONNECT TO SERVER ################\n",
    "from pyspark.sql import SparkSession\n",
    "spark = SparkSession.builder.master('local[1]').getOrCreate()\n",
    "#%run dpHooks.ipynb\n",
    "try:\n",
    "\t#sourcePreExecutionHook()\n",
    "\n",
    "\tbotonhouingtrain = HDFSConnector.fetch(spark, \"{'url': '/FileStore/platform/testdata/1692180187748_Boston_Housing_Train.csv', 'filename': 'Boston_Housing_Train.csv', 'delimiter': ',', 'file_type': 'Delimeted', 'dbfs_token': '', 'dbfs_domain': '', 'FilePath': '/Real Estate/Boston Housing/Boston_Housing_Train.csv', 'viewFileName': 'Boston_Housing_Train.csv', 'is_header': 'Use Header Line', 'baseType': 'hdfs', 'server_url': '/numtraPlatform/NumtraPlatformV3/uploads/platform/', 'results_url': 'http://ml.numtra.com:44040/api/read/hdfs'}\")\n",
    "\n",
    "except Exception as ex: \n",
    "\tlogging.error(ex)\n",
    "#spark.stop()\n"
   ]
  },
  {
   "cell_type": "markdown",
   "id": "4e8027af",
   "metadata": {},
   "source": [
    "***TRANSFORMING DATAFRAME***"
   ]
  },
  {
   "cell_type": "code",
   "execution_count": null,
   "id": "cb7e9f8f",
   "metadata": {},
   "outputs": [],
   "source": [
    "#%run dpHooks.ipynb\n",
    "try:\n",
    "\t#transformationPreExecutionHook()\n",
    "\n",
    "\tautofe = TransformationMain.run(botonhouingtrain,json.dumps( {\"FE\": [{\"transformationsData\": [{\"transformation_label\": \"novalue\"}], \"feature\": \"CRIM\", \"type\": \"real\", \"selected\": \"True\", \"replaceby\": \"mean\", \"stats\": {\"count\": \"500\", \"mean\": \"3.66\", \"stddev\": \"8.64\", \"min\": \"0.00632\", \"max\": \"88.9762\", \"missing\": \"0\"}, \"transformation\": [{\"transformation\": \"novalue\", \"selectedAsDefault\": 1}], \"updatedLabel\": \"CRIM\"}, {\"transformationsData\": [{\"transformation_label\": \"novalue\"}], \"feature\": \"ZN\", \"type\": \"real\", \"selected\": \"True\", \"replaceby\": \"mean\", \"stats\": {\"count\": \"500\", \"mean\": \"11.5\", \"stddev\": \"23.43\", \"min\": \"0.0\", \"max\": \"100.0\", \"missing\": \"0\"}, \"transformation\": [{\"transformation\": \"novalue\", \"selectedAsDefault\": 1}], \"updatedLabel\": \"ZN\"}, {\"transformationsData\": [{\"transformation_label\": \"novalue\"}], \"feature\": \"INDUS\", \"type\": \"real\", \"selected\": \"True\", \"replaceby\": \"mean\", \"stats\": {\"count\": \"500\", \"mean\": \"11.13\", \"stddev\": \"6.9\", \"min\": \"0.46\", \"max\": \"27.74\", \"missing\": \"0\"}, \"transformation\": [{\"transformation\": \"novalue\", \"selectedAsDefault\": 1}], \"updatedLabel\": \"INDUS\"}, {\"transformationsData\": [{\"transformation_label\": \"novalue\"}], \"feature\": \"CHAS\", \"type\": \"real\", \"selected\": \"True\", \"replaceby\": \"mean\", \"stats\": {\"count\": \"500\", \"mean\": \"0.07\", \"stddev\": \"0.26\", \"min\": \"0.0\", \"max\": \"1.0\", \"missing\": \"0\"}, \"transformation\": [{\"transformation\": \"novalue\", \"selectedAsDefault\": 1}], \"updatedLabel\": \"CHAS\"}, {\"transformationsData\": [{\"transformation_label\": \"novalue\"}], \"feature\": \"NOX\", \"type\": \"real\", \"selected\": \"True\", \"replaceby\": \"mean\", \"stats\": {\"count\": \"500\", \"mean\": \"0.55\", \"stddev\": \"0.12\", \"min\": \"0.385\", \"max\": \"0.871\", \"missing\": \"0\"}, \"transformation\": [{\"transformation\": \"novalue\", \"selectedAsDefault\": 1}], \"updatedLabel\": \"NOX\"}, {\"transformationsData\": [{\"transformation_label\": \"novalue\"}], \"feature\": \"RM\", \"type\": \"real\", \"selected\": \"True\", \"replaceby\": \"mean\", \"stats\": {\"count\": \"500\", \"mean\": \"6.28\", \"stddev\": \"0.71\", \"min\": \"3.561\", \"max\": \"8.78\", \"missing\": \"0\"}, \"transformation\": [{\"transformation\": \"novalue\", \"selectedAsDefault\": 1}], \"updatedLabel\": \"RM\"}, {\"transformationsData\": [{\"transformation_label\": \"novalue\"}], \"feature\": \"AGE\", \"type\": \"real\", \"selected\": \"True\", \"replaceby\": \"mean\", \"stats\": {\"count\": \"500\", \"mean\": \"68.42\", \"stddev\": \"28.27\", \"min\": \"2.9\", \"max\": \"100.0\", \"missing\": \"0\"}, \"transformation\": [{\"transformation\": \"novalue\", \"selectedAsDefault\": 1}], \"updatedLabel\": \"AGE\"}, {\"transformationsData\": [{\"transformation_label\": \"novalue\"}], \"feature\": \"DIS\", \"type\": \"real\", \"selected\": \"True\", \"replaceby\": \"mean\", \"stats\": {\"count\": \"500\", \"mean\": \"3.81\", \"stddev\": \"2.11\", \"min\": \"1.1296\", \"max\": \"12.1265\", \"missing\": \"0\"}, \"transformation\": [{\"transformation\": \"novalue\", \"selectedAsDefault\": 1}], \"updatedLabel\": \"DIS\"}, {\"transformationsData\": [{\"transformation_label\": \"novalue\"}], \"feature\": \"RAD\", \"type\": \"real\", \"selected\": \"True\", \"replaceby\": \"mean\", \"stats\": {\"count\": \"500\", \"mean\": \"9.64\", \"stddev\": \"8.72\", \"min\": \"1.0\", \"max\": \"24.0\", \"missing\": \"0\"}, \"transformation\": [{\"transformation\": \"novalue\", \"selectedAsDefault\": 1}], \"updatedLabel\": \"RAD\"}, {\"transformationsData\": [{\"transformation_label\": \"novalue\"}], \"feature\": \"TAX\", \"type\": \"real\", \"selected\": \"True\", \"replaceby\": \"mean\", \"stats\": {\"count\": \"500\", \"mean\": \"409.62\", \"stddev\": \"169.0\", \"min\": \"187.0\", \"max\": \"711.0\", \"missing\": \"0\"}, \"transformation\": [{\"transformation\": \"novalue\", \"selectedAsDefault\": 1}], \"updatedLabel\": \"TAX\"}, {\"transformationsData\": [{\"transformation_label\": \"novalue\"}], \"feature\": \"PTRATIO\", \"type\": \"real\", \"selected\": \"True\", \"replaceby\": \"mean\", \"stats\": {\"count\": \"500\", \"mean\": \"18.43\", \"stddev\": \"2.16\", \"min\": \"12.6\", \"max\": \"22.0\", \"missing\": \"0\"}, \"transformation\": [{\"transformation\": \"novalue\", \"selectedAsDefault\": 1}], \"updatedLabel\": \"PTRATIO\"}, {\"transformationsData\": [{\"transformation_label\": \"novalue\"}], \"feature\": \"B\", \"type\": \"real\", \"selected\": \"True\", \"replaceby\": \"mean\", \"stats\": {\"count\": \"500\", \"mean\": \"356.21\", \"stddev\": \"91.74\", \"min\": \"0.32\", \"max\": \"396.9\", \"missing\": \"0\"}, \"transformation\": [{\"transformation\": \"novalue\", \"selectedAsDefault\": 1}], \"updatedLabel\": \"B\"}, {\"transformationsData\": [{\"transformation_label\": \"novalue\"}], \"feature\": \"LSTAT\", \"type\": \"real\", \"selected\": \"True\", \"replaceby\": \"mean\", \"stats\": {\"count\": \"500\", \"mean\": \"12.7\", \"stddev\": \"7.16\", \"min\": \"1.73\", \"max\": \"37.97\", \"missing\": \"0\"}, \"transformation\": [{\"transformation\": \"novalue\", \"selectedAsDefault\": 1}], \"updatedLabel\": \"LSTAT\"}, {\"transformationsData\": [{\"transformation_label\": \"novalue\"}], \"feature\": \"MEDV\", \"type\": \"real\", \"selected\": \"True\", \"replaceby\": \"mean\", \"stats\": {\"count\": \"500\", \"mean\": \"22.57\", \"stddev\": \"9.24\", \"min\": \"5.0\", \"max\": \"50.0\", \"missing\": \"0\"}, \"transformation\": [{\"transformation\": \"novalue\", \"selectedAsDefault\": 1}], \"updatedLabel\": \"MEDV\"}]}))\n",
    "\n",
    "\t#transformationPostExecutionHook(autofe)\n",
    "\n",
    "except Exception as ex: \n",
    "\tlogging.error(ex)\n"
   ]
  },
  {
   "cell_type": "markdown",
   "id": "1ff625bf",
   "metadata": {},
   "source": [
    "***WRITING DATAFRAME***"
   ]
  },
  {
   "cell_type": "code",
   "execution_count": null,
   "id": "bc01364f",
   "metadata": {},
   "outputs": [],
   "source": [
    "#%run dpHooks.ipynb\n",
    "try:\n",
    "\t#sinkPreExecutionHook()\n",
    "\n",
    "\tsampledata = HDFSConnector.put(spark, \"{'is_header': 'Use Header Line', 'file_type': 'Delimeted', 'domain': 'http://172.31.20.43', 'port': '40070', 'path': None, 'url': '/FileStore/platform/sampleData/Boton_Houing_Train_DataCatalog.csv', 'pathOnly': '/FileStore/platform/sampleData', 'filename': 'Boton_Houing_Train_DataCatalog', 'token': '', 'delimiter': ','}\")\n",
    "\t#sinkPostExecutionHook(sampledata)\n",
    "\n",
    "except Exception as ex: \n",
    "\tlogging.error(ex)\n"
   ]
  }
 ],
 "metadata": {},
 "nbformat": 4,
 "nbformat_minor": 5
}
